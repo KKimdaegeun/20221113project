{
  "nbformat": 4,
  "nbformat_minor": 0,
  "metadata": {
    "colab": {
      "provenance": [],
      "authorship_tag": "ABX9TyNbmDUQMmqVssH9/DAAzzL8",
      "include_colab_link": true
    },
    "kernelspec": {
      "name": "python3",
      "display_name": "Python 3"
    },
    "language_info": {
      "name": "python"
    }
  },
  "cells": [
    {
      "cell_type": "markdown",
      "metadata": {
        "id": "view-in-github",
        "colab_type": "text"
      },
      "source": [
        "<a href=\"https://colab.research.google.com/github/KKimdaegeun/20221113project/blob/main/project.ipynb\" target=\"_parent\"><img src=\"https://colab.research.google.com/assets/colab-badge.svg\" alt=\"Open In Colab\"/></a>"
      ]
    },
    {
      "cell_type": "markdown",
      "source": [
        "1. 나라별 인구수 조회하기"
      ],
      "metadata": {
        "id": "esfVr54HGHQN"
      }
    },
    {
      "cell_type": "code",
      "source": [
        "import time\n",
        "\n",
        "import matplotlib.pyplot as plt\n",
        "plt.rc('font',family='NanumGothic')\n",
        "plt.rcParams['axes.unicode_minus'] = False # 마이너스 깨짐 현상 해결 코드\n",
        "\n",
        "import csv\n",
        "data = csv.reader(open('2021세계인구통계.csv', encoding = 'cp949'))\n",
        "next(data)\n",
        "\n",
        "print('안녕하세요! 2021년도 세계 인구 데이터 조회 서비스입니다.')\n",
        "time.sleep(1.5)\n",
        "print('다음 중 조회하고 싶은 정보에 해당하는 숫자를 입력해주세요.')\n",
        "time.sleep(1.5)\n",
        "print('1. 국가별 2021년도 인구수')\n",
        "time.sleep(1)\n",
        "print('2. 국가별 전년도 인구 대비 2021년도 인구 증감수')\n",
        "time.sleep(1)\n",
        "print('3. 국가별 전년도 인구 대비 2021년도 인구 증감률')\n",
        "time.sleep(1)\n",
        "print('4. 국가 간 2021년도 인구 데이터 비교')\n",
        "time.sleep(1)\n",
        "n = int(input('숫자를 입력하세요. :'))\n",
        "\n",
        "if n == 1 :\n",
        "  print('\"1. 국가별 2021년도 인구수\"를 선택하셨습니다.')\n",
        "  c1 = input('조회하고 싶은 국가의 이름을 입력해주세요. :')\n",
        "  time.sleep(1.5)\n",
        "  for row in data :\n",
        "    if c1 == row[0] :\n",
        "      print(c1 + '의 2021년도 인구는 ' + str(int(row[1])*1000) + '명 입니다.')\n",
        "\n",
        "elif n == 2 :\n",
        "  print('\"2. 국가별 전년도 인구 대비 2021년도 인구 증감수\"를 선택하셨습니다.')\n",
        "  c2 = input('조회하고 싶은 국가의 이름을 입력해주세요. :')\n",
        "  time.sleep(1.5)\n",
        "  for row in data :\n",
        "    if c2 == row[0] :\n",
        "      print(c2 + '의 2021년도 인구 증가수는 ' + str(int(row[2])*1000) + '명 입니다.')\n",
        "\n",
        "elif n == 3 :\n",
        "  print('\"3. 국가별 전년도 인구 대비 2021년도 인구 증감률\"을 선택하셨습니다.')\n",
        "  c3 = input('조회하고 싶은 국가의 이름을 입력해주세요. :')\n",
        "  time.sleep(1.5)\n",
        "  for row in data :\n",
        "    if c3 == row[0] :\n",
        "      print(c3 + '의 2021년도 인구 증감률은 ' + str(row[3]) + '입니다.')\n",
        "\n",
        "elif n == 4 :\n",
        "\n",
        "  x1 = []\n",
        "  x2 = []\n",
        "\n",
        "  print('\"4. 국가 간 2021년도 인구 데이터 비교\"를 선택하셨습니다.')\n",
        "  print('이 메뉴에서는 국가 간의 인구 데이터를 비교하여 그래프로 분석합니다.')\n",
        "  time.sleep(1.5)\n",
        "  c41 = input('조회하고 싶은 국가의 이름을 입력해주세요. :')\n",
        "  c42 = input('조회하고 싶은 국가의 이름을 입력해주세요. :')\n",
        "  for row in data :\n",
        "    if c41 == row[0] :\n",
        "      x1.append(int(row[1])*1000)\n",
        "    if c42 == row[0] :\n",
        "      x2.append(int(row[1])*1000)\n",
        "\n",
        "  plt.title(c1 + ', ' + c2 + '의 인구수 비교')\n",
        "  plt.bar(c1,x1)\n",
        "  plt.bar(c2,x2)\n",
        "  plt.show()\n",
        "\n",
        "else :\n",
        "  print('잘못 입력하셨습니다. 서비스를 종료합니다.')"
      ],
      "metadata": {
        "colab": {
          "base_uri": "https://localhost:8080/",
          "height": 101
        },
        "id": "7uRn_E5xojug",
        "outputId": "0b03c8f2-1dbf-4ad4-8903-d9bff34a1ce5"
      },
      "execution_count": 153,
      "outputs": [
        {
          "output_type": "error",
          "ename": "SyntaxError",
          "evalue": "ignored",
          "traceback": [
            "\u001b[0;36m  File \u001b[0;32m\"<ipython-input-153-e7625652d9d2>\"\u001b[0;36m, line \u001b[0;32m77\u001b[0m\n\u001b[0;31mSyntaxError\u001b[0m\u001b[0;31m:\u001b[0m 'break' outside loop\n"
          ]
        }
      ]
    },
    {
      "cell_type": "code",
      "source": [
        "import time\n",
        "import csv\n",
        "data = csv.reader(open('2021세계인구통계.csv', encoding = 'cp949'))\n",
        "next(data)\n",
        "\n",
        "y = []\n",
        "\n",
        "print('\"5. 전 세계 인구 증감율 그래프\"를 선택하셨습니다.')\n",
        "print('이 메뉴에서는 국가의 인구 증가율을 그래프로 나타냅니다.')\n",
        "time.sleep(1.5)\n",
        "\n",
        "for row in data :\n",
        "  if row[0] != '' :\n",
        "    y.append(row[3])\n",
        "\n",
        "\n",
        "plt.title('국가별 인구 증감율')\n",
        "plt.boxplot(y)\n",
        "plt.show()"
      ],
      "metadata": {
        "colab": {
          "base_uri": "https://localhost:8080/",
          "height": 736
        },
        "id": "cNdq-q-Hvpu3",
        "outputId": "c99b205b-9d1e-4f7f-f5f4-1e76737a1718"
      },
      "execution_count": 137,
      "outputs": [
        {
          "output_type": "stream",
          "name": "stdout",
          "text": [
            "\"5. 전 세계 인구 증감율 그래프\"를 선택하셨습니다.\n",
            "이 메뉴에서는 국가의 인구 증가율을 그래프로 나타냅니다.\n"
          ]
        },
        {
          "output_type": "error",
          "ename": "TypeError",
          "evalue": "ignored",
          "traceback": [
            "\u001b[0;31m---------------------------------------------------------------------------\u001b[0m",
            "\u001b[0;31mTypeError\u001b[0m                                 Traceback (most recent call last)",
            "\u001b[0;32m<ipython-input-137-f5a64bcf1e2e>\u001b[0m in \u001b[0;36m<module>\u001b[0;34m\u001b[0m\n\u001b[1;32m     16\u001b[0m \u001b[0;34m\u001b[0m\u001b[0m\n\u001b[1;32m     17\u001b[0m \u001b[0mplt\u001b[0m\u001b[0;34m.\u001b[0m\u001b[0mtitle\u001b[0m\u001b[0;34m(\u001b[0m\u001b[0;34m'국가별 인구 증감율'\u001b[0m\u001b[0;34m)\u001b[0m\u001b[0;34m\u001b[0m\u001b[0;34m\u001b[0m\u001b[0m\n\u001b[0;32m---> 18\u001b[0;31m \u001b[0mplt\u001b[0m\u001b[0;34m.\u001b[0m\u001b[0mboxplot\u001b[0m\u001b[0;34m(\u001b[0m\u001b[0my\u001b[0m\u001b[0;34m)\u001b[0m\u001b[0;34m\u001b[0m\u001b[0;34m\u001b[0m\u001b[0m\n\u001b[0m\u001b[1;32m     19\u001b[0m \u001b[0mplt\u001b[0m\u001b[0;34m.\u001b[0m\u001b[0mshow\u001b[0m\u001b[0;34m(\u001b[0m\u001b[0;34m)\u001b[0m\u001b[0;34m\u001b[0m\u001b[0;34m\u001b[0m\u001b[0m\n",
            "\u001b[0;32m/usr/local/lib/python3.7/dist-packages/matplotlib/pyplot.py\u001b[0m in \u001b[0;36mboxplot\u001b[0;34m(x, notch, sym, vert, whis, positions, widths, patch_artist, bootstrap, usermedians, conf_intervals, meanline, showmeans, showcaps, showbox, showfliers, boxprops, labels, flierprops, medianprops, meanprops, capprops, whiskerprops, manage_ticks, autorange, zorder, data)\u001b[0m\n\u001b[1;32m   2446\u001b[0m         \u001b[0mwhiskerprops\u001b[0m\u001b[0;34m=\u001b[0m\u001b[0mwhiskerprops\u001b[0m\u001b[0;34m,\u001b[0m \u001b[0mmanage_ticks\u001b[0m\u001b[0;34m=\u001b[0m\u001b[0mmanage_ticks\u001b[0m\u001b[0;34m,\u001b[0m\u001b[0;34m\u001b[0m\u001b[0;34m\u001b[0m\u001b[0m\n\u001b[1;32m   2447\u001b[0m         autorange=autorange, zorder=zorder, **({\"data\": data} if data\n\u001b[0;32m-> 2448\u001b[0;31m         is not None else {}))\n\u001b[0m\u001b[1;32m   2449\u001b[0m \u001b[0;34m\u001b[0m\u001b[0m\n\u001b[1;32m   2450\u001b[0m \u001b[0;34m\u001b[0m\u001b[0m\n",
            "\u001b[0;32m/usr/local/lib/python3.7/dist-packages/matplotlib/cbook/deprecation.py\u001b[0m in \u001b[0;36mwrapper\u001b[0;34m(*args, **kwargs)\u001b[0m\n\u001b[1;32m    294\u001b[0m                 f\"for the old name will be dropped %(removal)s.\")\n\u001b[1;32m    295\u001b[0m             \u001b[0mkwargs\u001b[0m\u001b[0;34m[\u001b[0m\u001b[0mnew\u001b[0m\u001b[0;34m]\u001b[0m \u001b[0;34m=\u001b[0m \u001b[0mkwargs\u001b[0m\u001b[0;34m.\u001b[0m\u001b[0mpop\u001b[0m\u001b[0;34m(\u001b[0m\u001b[0mold\u001b[0m\u001b[0;34m)\u001b[0m\u001b[0;34m\u001b[0m\u001b[0;34m\u001b[0m\u001b[0m\n\u001b[0;32m--> 296\u001b[0;31m         \u001b[0;32mreturn\u001b[0m \u001b[0mfunc\u001b[0m\u001b[0;34m(\u001b[0m\u001b[0;34m*\u001b[0m\u001b[0margs\u001b[0m\u001b[0;34m,\u001b[0m \u001b[0;34m**\u001b[0m\u001b[0mkwargs\u001b[0m\u001b[0;34m)\u001b[0m\u001b[0;34m\u001b[0m\u001b[0;34m\u001b[0m\u001b[0m\n\u001b[0m\u001b[1;32m    297\u001b[0m \u001b[0;34m\u001b[0m\u001b[0m\n\u001b[1;32m    298\u001b[0m     \u001b[0;31m# wrapper() must keep the same documented signature as func(): if we\u001b[0m\u001b[0;34m\u001b[0m\u001b[0;34m\u001b[0m\u001b[0;34m\u001b[0m\u001b[0m\n",
            "\u001b[0;32m/usr/local/lib/python3.7/dist-packages/matplotlib/__init__.py\u001b[0m in \u001b[0;36minner\u001b[0;34m(ax, data, *args, **kwargs)\u001b[0m\n\u001b[1;32m   1563\u001b[0m     \u001b[0;32mdef\u001b[0m \u001b[0minner\u001b[0m\u001b[0;34m(\u001b[0m\u001b[0max\u001b[0m\u001b[0;34m,\u001b[0m \u001b[0;34m*\u001b[0m\u001b[0margs\u001b[0m\u001b[0;34m,\u001b[0m \u001b[0mdata\u001b[0m\u001b[0;34m=\u001b[0m\u001b[0;32mNone\u001b[0m\u001b[0;34m,\u001b[0m \u001b[0;34m**\u001b[0m\u001b[0mkwargs\u001b[0m\u001b[0;34m)\u001b[0m\u001b[0;34m:\u001b[0m\u001b[0;34m\u001b[0m\u001b[0;34m\u001b[0m\u001b[0m\n\u001b[1;32m   1564\u001b[0m         \u001b[0;32mif\u001b[0m \u001b[0mdata\u001b[0m \u001b[0;32mis\u001b[0m \u001b[0;32mNone\u001b[0m\u001b[0;34m:\u001b[0m\u001b[0;34m\u001b[0m\u001b[0;34m\u001b[0m\u001b[0m\n\u001b[0;32m-> 1565\u001b[0;31m             \u001b[0;32mreturn\u001b[0m \u001b[0mfunc\u001b[0m\u001b[0;34m(\u001b[0m\u001b[0max\u001b[0m\u001b[0;34m,\u001b[0m \u001b[0;34m*\u001b[0m\u001b[0mmap\u001b[0m\u001b[0;34m(\u001b[0m\u001b[0msanitize_sequence\u001b[0m\u001b[0;34m,\u001b[0m \u001b[0margs\u001b[0m\u001b[0;34m)\u001b[0m\u001b[0;34m,\u001b[0m \u001b[0;34m**\u001b[0m\u001b[0mkwargs\u001b[0m\u001b[0;34m)\u001b[0m\u001b[0;34m\u001b[0m\u001b[0;34m\u001b[0m\u001b[0m\n\u001b[0m\u001b[1;32m   1566\u001b[0m \u001b[0;34m\u001b[0m\u001b[0m\n\u001b[1;32m   1567\u001b[0m         \u001b[0mbound\u001b[0m \u001b[0;34m=\u001b[0m \u001b[0mnew_sig\u001b[0m\u001b[0;34m.\u001b[0m\u001b[0mbind\u001b[0m\u001b[0;34m(\u001b[0m\u001b[0max\u001b[0m\u001b[0;34m,\u001b[0m \u001b[0;34m*\u001b[0m\u001b[0margs\u001b[0m\u001b[0;34m,\u001b[0m \u001b[0;34m**\u001b[0m\u001b[0mkwargs\u001b[0m\u001b[0;34m)\u001b[0m\u001b[0;34m\u001b[0m\u001b[0;34m\u001b[0m\u001b[0m\n",
            "\u001b[0;32m/usr/local/lib/python3.7/dist-packages/matplotlib/axes/_axes.py\u001b[0m in \u001b[0;36mboxplot\u001b[0;34m(self, x, notch, sym, vert, whis, positions, widths, patch_artist, bootstrap, usermedians, conf_intervals, meanline, showmeans, showcaps, showbox, showfliers, boxprops, labels, flierprops, medianprops, meanprops, capprops, whiskerprops, manage_ticks, autorange, zorder)\u001b[0m\n\u001b[1;32m   3626\u001b[0m \u001b[0;34m\u001b[0m\u001b[0m\n\u001b[1;32m   3627\u001b[0m         bxpstats = cbook.boxplot_stats(x, whis=whis, bootstrap=bootstrap,\n\u001b[0;32m-> 3628\u001b[0;31m                                        labels=labels, autorange=autorange)\n\u001b[0m\u001b[1;32m   3629\u001b[0m         \u001b[0;32mif\u001b[0m \u001b[0mnotch\u001b[0m \u001b[0;32mis\u001b[0m \u001b[0;32mNone\u001b[0m\u001b[0;34m:\u001b[0m\u001b[0;34m\u001b[0m\u001b[0;34m\u001b[0m\u001b[0m\n\u001b[1;32m   3630\u001b[0m             \u001b[0mnotch\u001b[0m \u001b[0;34m=\u001b[0m \u001b[0mrcParams\u001b[0m\u001b[0;34m[\u001b[0m\u001b[0;34m'boxplot.notch'\u001b[0m\u001b[0;34m]\u001b[0m\u001b[0;34m\u001b[0m\u001b[0;34m\u001b[0m\u001b[0m\n",
            "\u001b[0;32m/usr/local/lib/python3.7/dist-packages/matplotlib/cbook/__init__.py\u001b[0m in \u001b[0;36mboxplot_stats\u001b[0;34m(X, whis, bootstrap, labels, autorange)\u001b[0m\n\u001b[1;32m   1203\u001b[0m \u001b[0;34m\u001b[0m\u001b[0m\n\u001b[1;32m   1204\u001b[0m         \u001b[0;31m# arithmetic mean\u001b[0m\u001b[0;34m\u001b[0m\u001b[0;34m\u001b[0m\u001b[0;34m\u001b[0m\u001b[0m\n\u001b[0;32m-> 1205\u001b[0;31m         \u001b[0mstats\u001b[0m\u001b[0;34m[\u001b[0m\u001b[0;34m'mean'\u001b[0m\u001b[0;34m]\u001b[0m \u001b[0;34m=\u001b[0m \u001b[0mnp\u001b[0m\u001b[0;34m.\u001b[0m\u001b[0mmean\u001b[0m\u001b[0;34m(\u001b[0m\u001b[0mx\u001b[0m\u001b[0;34m)\u001b[0m\u001b[0;34m\u001b[0m\u001b[0;34m\u001b[0m\u001b[0m\n\u001b[0m\u001b[1;32m   1206\u001b[0m \u001b[0;34m\u001b[0m\u001b[0m\n\u001b[1;32m   1207\u001b[0m         \u001b[0;31m# medians and quartiles\u001b[0m\u001b[0;34m\u001b[0m\u001b[0;34m\u001b[0m\u001b[0;34m\u001b[0m\u001b[0m\n",
            "\u001b[0;32m<__array_function__ internals>\u001b[0m in \u001b[0;36mmean\u001b[0;34m(*args, **kwargs)\u001b[0m\n",
            "\u001b[0;32m/usr/local/lib/python3.7/dist-packages/numpy/core/fromnumeric.py\u001b[0m in \u001b[0;36mmean\u001b[0;34m(a, axis, dtype, out, keepdims, where)\u001b[0m\n\u001b[1;32m   3439\u001b[0m \u001b[0;34m\u001b[0m\u001b[0m\n\u001b[1;32m   3440\u001b[0m     return _methods._mean(a, axis=axis, dtype=dtype,\n\u001b[0;32m-> 3441\u001b[0;31m                           out=out, **kwargs)\n\u001b[0m\u001b[1;32m   3442\u001b[0m \u001b[0;34m\u001b[0m\u001b[0m\n\u001b[1;32m   3443\u001b[0m \u001b[0;34m\u001b[0m\u001b[0m\n",
            "\u001b[0;32m/usr/local/lib/python3.7/dist-packages/numpy/core/_methods.py\u001b[0m in \u001b[0;36m_mean\u001b[0;34m(a, axis, dtype, out, keepdims, where)\u001b[0m\n\u001b[1;32m    177\u001b[0m             \u001b[0mis_float16_result\u001b[0m \u001b[0;34m=\u001b[0m \u001b[0;32mTrue\u001b[0m\u001b[0;34m\u001b[0m\u001b[0;34m\u001b[0m\u001b[0m\n\u001b[1;32m    178\u001b[0m \u001b[0;34m\u001b[0m\u001b[0m\n\u001b[0;32m--> 179\u001b[0;31m     \u001b[0mret\u001b[0m \u001b[0;34m=\u001b[0m \u001b[0mumr_sum\u001b[0m\u001b[0;34m(\u001b[0m\u001b[0marr\u001b[0m\u001b[0;34m,\u001b[0m \u001b[0maxis\u001b[0m\u001b[0;34m,\u001b[0m \u001b[0mdtype\u001b[0m\u001b[0;34m,\u001b[0m \u001b[0mout\u001b[0m\u001b[0;34m,\u001b[0m \u001b[0mkeepdims\u001b[0m\u001b[0;34m,\u001b[0m \u001b[0mwhere\u001b[0m\u001b[0;34m=\u001b[0m\u001b[0mwhere\u001b[0m\u001b[0;34m)\u001b[0m\u001b[0;34m\u001b[0m\u001b[0;34m\u001b[0m\u001b[0m\n\u001b[0m\u001b[1;32m    180\u001b[0m     \u001b[0;32mif\u001b[0m \u001b[0misinstance\u001b[0m\u001b[0;34m(\u001b[0m\u001b[0mret\u001b[0m\u001b[0;34m,\u001b[0m \u001b[0mmu\u001b[0m\u001b[0;34m.\u001b[0m\u001b[0mndarray\u001b[0m\u001b[0;34m)\u001b[0m\u001b[0;34m:\u001b[0m\u001b[0;34m\u001b[0m\u001b[0;34m\u001b[0m\u001b[0m\n\u001b[1;32m    181\u001b[0m         ret = um.true_divide(\n",
            "\u001b[0;31mTypeError\u001b[0m: cannot perform reduce with flexible type"
          ]
        },
        {
          "output_type": "display_data",
          "data": {
            "text/plain": [
              "<Figure size 432x288 with 1 Axes>"
            ],
            "image/png": "[encoded data removed]"
          },
          "metadata": {
            "needs_background": "light"
          }
        }
      ]
    },
    {
      "cell_type": "code",
      "source": [],
      "metadata": {
        "id": "cMLjvGCfOABh"
      },
      "execution_count": null,
      "outputs": []
    },
    {
      "cell_type": "code",
      "source": [
        "print('\"1. 나라별 2021년도 인구 조회하기 서비스\"를 선택하셨습니다.')\n",
        "  elif input_n == 2 :\n",
        "    print('\"2. 국가별 전년도 인구 대비 2021년도 인구 증감수\"를 선택하셨습니다.')\n",
        "    input_c = input('조회하고 싶은 국가의 이름을 입력해주세요. :')\n",
        "    time.sleep(1.5)\n",
        "    for row in data :\n",
        "      if input_c in row[0] :\n",
        "        print(input_c + '의 2021년도 인구 증가수는 ' + str(int(row[2])*1000) + '명 입니다.')\n",
        "\n",
        "  elif input_n == 3 :\n",
        "    print('\"3. 국가별 전년도 인구 대비 2021년도 인구 증감률\"을 선택하셨습니다.')\n",
        "    input_c = input('조회하고 싶은 국가의 이름을 입력해주세요. :')\n",
        "    time.sleep(1.5)\n",
        "    for row in data :\n",
        "      if input_c in row[0] :\n",
        "        print(input_c + '의 2021년도 인구 증감률은 ' + str(row[3]) + '명 입니다.')\n",
        "\n",
        "  else :\n",
        "    print('잘못 입력하셨습니다. 다시 숫자를 입력해주시기 바랍니다.')\n",
        "    time.sleep(1.5)\n",
        "\n",
        "\n"
      ],
      "metadata": {
        "colab": {
          "base_uri": "https://localhost:8080/"
        },
        "id": "ZNehwfC1Iqe1",
        "outputId": "2d7c53e4-9d5a-4cd9-e0e4-488e3df9e006"
      },
      "execution_count": 36,
      "outputs": [
        {
          "output_type": "stream",
          "name": "stdout",
          "text": [
            "\"나라별 2021년도 인구 조회하기 서비스를 선택하셨습니다.\"\n"
          ]
        }
      ]
    },
    {
      "cell_type": "code",
      "source": [
        "\n",
        "\n",
        "import time\n",
        "import csv\n",
        "data = csv.reader(open('2021세계인구통계.csv', encoding = 'cp949'))\n",
        "next(data)\n",
        "\n",
        "print('안녕하세요! 2021년도 세계 인구 안내 서비스입니다.')\n",
        "time.sleep(1.5)\n",
        "\n",
        "while True :\n",
        "  input_c = input('조회하고 싶은 국가의 이름을 입력해주세요. :')\n",
        "  for row in data :\n",
        "    if input_c in row[0] :\n",
        "      print('테스트')"
      ],
      "metadata": {
        "id": "L-Xcd5uTtft_"
      },
      "execution_count": null,
      "outputs": []
    }
  ]
}